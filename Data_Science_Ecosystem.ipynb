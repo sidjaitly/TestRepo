{
 "cells": [
  {
   "cell_type": "markdown",
   "id": "7c0a2731",
   "metadata": {},
   "source": [
    "# Data Science Tools"
   ]
  },
  {
   "cell_type": "markdown",
   "id": "71b760d3",
   "metadata": {},
   "source": [
    "In this notebook, Data Science Tools are summarized. "
   ]
  },
  {
   "cell_type": "markdown",
   "id": "91295f35",
   "metadata": {},
   "source": [
    "Some langausges for Data Science:\n",
    "1) Python\n",
    "2) R\n",
    "3) SQL\n",
    "4) Scala\n",
    "5) Julia and many others"
   ]
  },
  {
   "cell_type": "markdown",
   "id": "9d56f8ca",
   "metadata": {},
   "source": [
    "NumPy – For numerical computing and handling arrays.\n",
    "\n",
    "Pandas – For data manipulation and analysis using data frames.\n",
    "\n",
    "Matplotlib – For creating static, animated, and interactive visualizations.\n",
    "\n",
    "Scikit-learn – For building and evaluating machine learning models.\n",
    "\n",
    "TensorFlow – For deep learning and neural networks."
   ]
  },
  {
   "cell_type": "markdown",
   "id": "78e82863",
   "metadata": {},
   "source": [
    "|Data Science Tools|\n",
    "|------------------|\n",
    "|RStudio|\n",
    "|Google Colab|\n",
    "|Apache Spark|\n",
    "|Tableau|\n",
    "|Power BI|"
   ]
  },
  {
   "cell_type": "markdown",
   "id": "c63a0b0d",
   "metadata": {},
   "source": [
    "### Below are arithmetic expression examples. "
   ]
  },
  {
   "cell_type": "code",
   "execution_count": 2,
   "id": "e74e62f4",
   "metadata": {},
   "outputs": [
    {
     "name": "stdout",
     "output_type": "stream",
     "text": [
      "Sum: 15\n",
      "Product: 50\n"
     ]
    }
   ],
   "source": [
    "a = 10\n",
    "b = 5\n",
    "\n",
    "sum_result = a + b\n",
    "product_result = a * b\n",
    "\n",
    "print(\"Sum:\", sum_result)\n",
    "print(\"Product:\", product_result)"
   ]
  },
  {
   "cell_type": "code",
   "execution_count": 3,
   "id": "066e18ed",
   "metadata": {},
   "outputs": [
    {
     "name": "stdout",
     "output_type": "stream",
     "text": [
      "Division: 5.0\n",
      "Difference: 16\n"
     ]
    }
   ],
   "source": [
    "x = 20\n",
    "y = 4\n",
    "\n",
    "division_result = x / y\n",
    "difference_result = x - y\n",
    "\n",
    "print(\"Division:\", division_result)\n",
    "print(\"Difference:\", difference_result)"
   ]
  },
  {
   "cell_type": "code",
   "execution_count": 4,
   "id": "d39e1533",
   "metadata": {},
   "outputs": [
    {
     "name": "stdout",
     "output_type": "stream",
     "text": [
      "150 minutes is equal to 2.5 hours\n"
     ]
    }
   ],
   "source": [
    "# Convert minutes to hours\n",
    "\n",
    "minutes = 150  # You can change this value to any number of minutes\n",
    "hours = minutes / 60\n",
    "\n",
    "print(f\"{minutes} minutes is equal to {hours} hours\")"
   ]
  },
  {
   "cell_type": "markdown",
   "id": "6f1bb66c",
   "metadata": {},
   "source": [
    "__Goals__\n",
    " - Data Science popular languages\n",
    " - Data Science popular libraries\n",
    " - Tools for Data Science\n",
    " - Cell comments"
   ]
  },
  {
   "cell_type": "markdown",
   "id": "62dfa944",
   "metadata": {},
   "source": [
    "## AUTHOR"
   ]
  },
  {
   "cell_type": "markdown",
   "id": "b56f3dba",
   "metadata": {},
   "source": [
    "Siddharth Jaitly"
   ]
  },
  {
   "cell_type": "code",
   "execution_count": null,
   "id": "9806b529",
   "metadata": {},
   "outputs": [],
   "source": []
  },
  {
   "cell_type": "code",
   "execution_count": null,
   "id": "330035a2",
   "metadata": {},
   "outputs": [],
   "source": []
  },
  {
   "cell_type": "code",
   "execution_count": null,
   "id": "d0848a12",
   "metadata": {},
   "outputs": [],
   "source": []
  }
 ],
 "metadata": {
  "kernelspec": {
   "display_name": "Python 3 (ipykernel)",
   "language": "python",
   "name": "python3"
  },
  "language_info": {
   "codemirror_mode": {
    "name": "ipython",
    "version": 3
   },
   "file_extension": ".py",
   "mimetype": "text/x-python",
   "name": "python",
   "nbconvert_exporter": "python",
   "pygments_lexer": "ipython3",
   "version": "3.11.5"
  }
 },
 "nbformat": 4,
 "nbformat_minor": 5
}
